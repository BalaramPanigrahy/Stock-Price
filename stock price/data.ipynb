{
 "cells": [
  {
   "cell_type": "code",
   "execution_count": 29,
   "metadata": {},
   "outputs": [],
   "source": [
    "import pandas as pd\n",
    "import numpy as np\n",
    "import matplotlib.pyplot as plt\n",
    "import seaborn as sns\n",
    "%matplotlib inline"
   ]
  },
  {
   "cell_type": "code",
   "execution_count": 30,
   "metadata": {},
   "outputs": [
    {
     "data": {
      "text/html": [
       "<div>\n",
       "<style scoped>\n",
       "    .dataframe tbody tr th:only-of-type {\n",
       "        vertical-align: middle;\n",
       "    }\n",
       "\n",
       "    .dataframe tbody tr th {\n",
       "        vertical-align: top;\n",
       "    }\n",
       "\n",
       "    .dataframe thead th {\n",
       "        text-align: right;\n",
       "    }\n",
       "</style>\n",
       "<table border=\"1\" class=\"dataframe\">\n",
       "  <thead>\n",
       "    <tr style=\"text-align: right;\">\n",
       "      <th></th>\n",
       "      <th>Adj Close</th>\n",
       "      <th>Open</th>\n",
       "      <th>High</th>\n",
       "      <th>Low</th>\n",
       "      <th>Close</th>\n",
       "      <th>Volume</th>\n",
       "    </tr>\n",
       "    <tr>\n",
       "      <th>Date</th>\n",
       "      <th></th>\n",
       "      <th></th>\n",
       "      <th></th>\n",
       "      <th></th>\n",
       "      <th></th>\n",
       "      <th></th>\n",
       "    </tr>\n",
       "  </thead>\n",
       "  <tbody>\n",
       "    <tr>\n",
       "      <th>2012-12-31</th>\n",
       "      <td>12.54</td>\n",
       "      <td>12.19</td>\n",
       "      <td>12.62</td>\n",
       "      <td>12.14</td>\n",
       "      <td>12.54</td>\n",
       "      <td>68380000</td>\n",
       "    </tr>\n",
       "    <tr>\n",
       "      <th>2013-01-02</th>\n",
       "      <td>12.87</td>\n",
       "      <td>12.80</td>\n",
       "      <td>12.90</td>\n",
       "      <td>12.66</td>\n",
       "      <td>12.87</td>\n",
       "      <td>65420000</td>\n",
       "    </tr>\n",
       "    <tr>\n",
       "      <th>2013-01-03</th>\n",
       "      <td>12.92</td>\n",
       "      <td>12.86</td>\n",
       "      <td>13.04</td>\n",
       "      <td>12.82</td>\n",
       "      <td>12.92</td>\n",
       "      <td>55018000</td>\n",
       "    </tr>\n",
       "    <tr>\n",
       "      <th>2013-01-04</th>\n",
       "      <td>12.96</td>\n",
       "      <td>12.88</td>\n",
       "      <td>12.99</td>\n",
       "      <td>12.83</td>\n",
       "      <td>12.96</td>\n",
       "      <td>37484000</td>\n",
       "    </tr>\n",
       "    <tr>\n",
       "      <th>2013-01-07</th>\n",
       "      <td>13.42</td>\n",
       "      <td>13.15</td>\n",
       "      <td>13.49</td>\n",
       "      <td>13.13</td>\n",
       "      <td>13.42</td>\n",
       "      <td>98200000</td>\n",
       "    </tr>\n",
       "    <tr>\n",
       "      <th>2013-01-08</th>\n",
       "      <td>13.32</td>\n",
       "      <td>13.35</td>\n",
       "      <td>13.45</td>\n",
       "      <td>13.18</td>\n",
       "      <td>13.32</td>\n",
       "      <td>60214000</td>\n",
       "    </tr>\n",
       "    <tr>\n",
       "      <th>2013-01-09</th>\n",
       "      <td>13.32</td>\n",
       "      <td>13.41</td>\n",
       "      <td>13.48</td>\n",
       "      <td>13.27</td>\n",
       "      <td>13.32</td>\n",
       "      <td>45312000</td>\n",
       "    </tr>\n",
       "    <tr>\n",
       "      <th>2013-01-10</th>\n",
       "      <td>13.27</td>\n",
       "      <td>13.43</td>\n",
       "      <td>13.44</td>\n",
       "      <td>13.11</td>\n",
       "      <td>13.27</td>\n",
       "      <td>57268000</td>\n",
       "    </tr>\n",
       "    <tr>\n",
       "      <th>2013-01-11</th>\n",
       "      <td>13.40</td>\n",
       "      <td>13.26</td>\n",
       "      <td>13.42</td>\n",
       "      <td>13.21</td>\n",
       "      <td>13.40</td>\n",
       "      <td>48266000</td>\n",
       "    </tr>\n",
       "    <tr>\n",
       "      <th>2013-01-14</th>\n",
       "      <td>13.64</td>\n",
       "      <td>13.40</td>\n",
       "      <td>13.71</td>\n",
       "      <td>13.38</td>\n",
       "      <td>13.64</td>\n",
       "      <td>85500000</td>\n",
       "    </tr>\n",
       "  </tbody>\n",
       "</table>\n",
       "</div>"
      ],
      "text/plain": [
       "            Adj Close   Open   High    Low  Close    Volume\n",
       "Date                                                       \n",
       "2012-12-31      12.54  12.19  12.62  12.14  12.54  68380000\n",
       "2013-01-02      12.87  12.80  12.90  12.66  12.87  65420000\n",
       "2013-01-03      12.92  12.86  13.04  12.82  12.92  55018000\n",
       "2013-01-04      12.96  12.88  12.99  12.83  12.96  37484000\n",
       "2013-01-07      13.42  13.15  13.49  13.13  13.42  98200000\n",
       "2013-01-08      13.32  13.35  13.45  13.18  13.32  60214000\n",
       "2013-01-09      13.32  13.41  13.48  13.27  13.32  45312000\n",
       "2013-01-10      13.27  13.43  13.44  13.11  13.27  57268000\n",
       "2013-01-11      13.40  13.26  13.42  13.21  13.40  48266000\n",
       "2013-01-14      13.64  13.40  13.71  13.38  13.64  85500000"
      ]
     },
     "execution_count": 30,
     "metadata": {},
     "output_type": "execute_result"
    }
   ],
   "source": [
    "import pandas as pd\n",
    "import yfinance as yf\n",
    "from yahoofinancials import YahooFinancials\n",
    "AMZN = yf.download('AMZN', \n",
    "                      start='2013-01-01', \n",
    "                      end='2022-08-10', \n",
    "                      progress=False)\n",
    "# AMZN = yf.download('AMZN') for all \n",
    "all_data = AMZN[['Adj Close','Open', 'High', 'Low', 'Close', 'Volume']].round(2)\n",
    "all_data.head(10)"
   ]
  },
  {
   "cell_type": "code",
   "execution_count": 31,
   "metadata": {},
   "outputs": [
    {
     "data": {
      "text/html": [
       "<div>\n",
       "<style scoped>\n",
       "    .dataframe tbody tr th:only-of-type {\n",
       "        vertical-align: middle;\n",
       "    }\n",
       "\n",
       "    .dataframe tbody tr th {\n",
       "        vertical-align: top;\n",
       "    }\n",
       "\n",
       "    .dataframe thead th {\n",
       "        text-align: right;\n",
       "    }\n",
       "</style>\n",
       "<table border=\"1\" class=\"dataframe\">\n",
       "  <thead>\n",
       "    <tr style=\"text-align: right;\">\n",
       "      <th></th>\n",
       "      <th>Adj Close</th>\n",
       "      <th>Open</th>\n",
       "      <th>High</th>\n",
       "      <th>Low</th>\n",
       "      <th>Close</th>\n",
       "      <th>Volume</th>\n",
       "    </tr>\n",
       "    <tr>\n",
       "      <th>Date</th>\n",
       "      <th></th>\n",
       "      <th></th>\n",
       "      <th></th>\n",
       "      <th></th>\n",
       "      <th></th>\n",
       "      <th></th>\n",
       "    </tr>\n",
       "  </thead>\n",
       "  <tbody>\n",
       "    <tr>\n",
       "      <th>2022-08-03</th>\n",
       "      <td>139.52</td>\n",
       "      <td>136.21</td>\n",
       "      <td>140.49</td>\n",
       "      <td>136.05</td>\n",
       "      <td>139.52</td>\n",
       "      <td>71827800</td>\n",
       "    </tr>\n",
       "    <tr>\n",
       "      <th>2022-08-04</th>\n",
       "      <td>142.57</td>\n",
       "      <td>140.58</td>\n",
       "      <td>143.56</td>\n",
       "      <td>139.55</td>\n",
       "      <td>142.57</td>\n",
       "      <td>70585000</td>\n",
       "    </tr>\n",
       "    <tr>\n",
       "      <th>2022-08-05</th>\n",
       "      <td>140.80</td>\n",
       "      <td>140.10</td>\n",
       "      <td>142.86</td>\n",
       "      <td>139.60</td>\n",
       "      <td>140.80</td>\n",
       "      <td>50650100</td>\n",
       "    </tr>\n",
       "    <tr>\n",
       "      <th>2022-08-08</th>\n",
       "      <td>139.41</td>\n",
       "      <td>142.05</td>\n",
       "      <td>144.23</td>\n",
       "      <td>138.29</td>\n",
       "      <td>139.41</td>\n",
       "      <td>52229000</td>\n",
       "    </tr>\n",
       "    <tr>\n",
       "      <th>2022-08-09</th>\n",
       "      <td>137.83</td>\n",
       "      <td>138.05</td>\n",
       "      <td>138.95</td>\n",
       "      <td>136.21</td>\n",
       "      <td>137.83</td>\n",
       "      <td>40395900</td>\n",
       "    </tr>\n",
       "  </tbody>\n",
       "</table>\n",
       "</div>"
      ],
      "text/plain": [
       "            Adj Close    Open    High     Low   Close    Volume\n",
       "Date                                                           \n",
       "2022-08-03     139.52  136.21  140.49  136.05  139.52  71827800\n",
       "2022-08-04     142.57  140.58  143.56  139.55  142.57  70585000\n",
       "2022-08-05     140.80  140.10  142.86  139.60  140.80  50650100\n",
       "2022-08-08     139.41  142.05  144.23  138.29  139.41  52229000\n",
       "2022-08-09     137.83  138.05  138.95  136.21  137.83  40395900"
      ]
     },
     "execution_count": 31,
     "metadata": {},
     "output_type": "execute_result"
    }
   ],
   "source": [
    "all_data.tail()"
   ]
  },
  {
   "cell_type": "code",
   "execution_count": 32,
   "metadata": {},
   "outputs": [
    {
     "data": {
      "text/plain": [
       "<AxesSubplot:xlabel='Date'>"
      ]
     },
     "execution_count": 32,
     "metadata": {},
     "output_type": "execute_result"
    },
    {
     "data": {
      "image/png": "[encoded data removed]",
      "text/plain": [
       "<Figure size 432x288 with 1 Axes>"
      ]
     },
     "metadata": {
      "needs_background": "light"
     },
     "output_type": "display_data"
    }
   ],
   "source": [
    "all_data['Adj Close'].plot()"
   ]
  },
  {
   "cell_type": "code",
   "execution_count": 33,
   "metadata": {},
   "outputs": [
    {
     "name": "stdout",
     "output_type": "stream",
     "text": [
      "There are 2016 observations in the training data\n",
      "There are 403 observations in the test data\n"
     ]
    }
   ],
   "source": [
    "print(\"There are \"+ str(all_data[:'2020'].shape[0]) + \" observations in the training data\")\n",
    "print(\"There are \"+ str(all_data['2021':].shape[0]) + \" observations in the test data\")"
   ]
  },
  {
   "cell_type": "code",
   "execution_count": 34,
   "metadata": {},
   "outputs": [],
   "source": [
    "import numpy as np"
   ]
  },
  {
   "cell_type": "code",
   "execution_count": 35,
   "metadata": {},
   "outputs": [
    {
     "data": {
      "text/plain": [
       "(2010, 5)"
      ]
     },
     "execution_count": 35,
     "metadata": {},
     "output_type": "execute_result"
    }
   ],
   "source": [
    "def ts_train_test(all_data,time_steps,for_periods):\n",
    "    '''\n",
    "    input: \n",
    "      data: dataframe with dates and price data\n",
    "    output:\n",
    "      X_train, y_train: data from 2013/1/1-2018/12/31\n",
    "      X_test:  data from 2019 -\n",
    "      sc:      insantiated MinMaxScaler object fit to the training data\n",
    "    '''\n",
    "    # create training and test set\n",
    "    ts_train = all_data[:'2020'].iloc[:,0:1].values\n",
    "    ts_test  = all_data['2021':].iloc[:,0:1].values\n",
    "    ts_train_len = len(ts_train)\n",
    "    ts_test_len = len(ts_test)\n",
    "\n",
    "    # create training data of s samples and t time steps\n",
    "    X_train = []\n",
    "    y_train = []\n",
    "    y_train_stacked = []\n",
    "    for i in range(time_steps,ts_train_len-1): \n",
    "        X_train.append(ts_train[i-time_steps:i,0])\n",
    "        y_train.append(ts_train[i:i+for_periods,0])\n",
    "    X_train, y_train = np.array(X_train), np.array(y_train)\n",
    "\n",
    "    # Reshaping X_train for efficient modelling\n",
    "    X_train = np.reshape(X_train, (X_train.shape[0],X_train.shape[1],1))\n",
    "\n",
    "    inputs = pd.concat((all_data[\"Adj Close\"][:'2020'], all_data[\"Adj Close\"]['2021':]),axis=0).values\n",
    "    inputs = inputs[len(inputs)-len(ts_test) - time_steps:]\n",
    "    inputs = inputs.reshape(-1,1)\n",
    "\n",
    "    # Preparing X_test\n",
    "    X_test = []\n",
    "    for i in range(time_steps,ts_test_len+time_steps-for_periods):\n",
    "        X_test.append(inputs[i-time_steps:i,0])\n",
    "        \n",
    "    X_test = np.array(X_test)\n",
    "    X_test = np.reshape(X_test, (X_test.shape[0],X_test.shape[1],1))\n",
    "\n",
    "    return X_train, y_train , X_test\n",
    "\n",
    "X_train, y_train, X_test = ts_train_test(all_data,5,2)\n",
    "X_train.shape[0],X_train.shape[1]"
   ]
  },
  {
   "cell_type": "code",
   "execution_count": 36,
   "metadata": {},
   "outputs": [
    {
     "data": {
      "text/html": [
       "<div>\n",
       "<style scoped>\n",
       "    .dataframe tbody tr th:only-of-type {\n",
       "        vertical-align: middle;\n",
       "    }\n",
       "\n",
       "    .dataframe tbody tr th {\n",
       "        vertical-align: top;\n",
       "    }\n",
       "\n",
       "    .dataframe thead th {\n",
       "        text-align: right;\n",
       "    }\n",
       "</style>\n",
       "<table border=\"1\" class=\"dataframe\">\n",
       "  <thead>\n",
       "    <tr style=\"text-align: right;\">\n",
       "      <th></th>\n",
       "      <th>0</th>\n",
       "      <th>1</th>\n",
       "      <th>2</th>\n",
       "      <th>3</th>\n",
       "      <th>4</th>\n",
       "      <th>0</th>\n",
       "      <th>1</th>\n",
       "    </tr>\n",
       "  </thead>\n",
       "  <tbody>\n",
       "    <tr>\n",
       "      <th>0</th>\n",
       "      <td>12.54</td>\n",
       "      <td>12.87</td>\n",
       "      <td>12.92</td>\n",
       "      <td>12.96</td>\n",
       "      <td>13.42</td>\n",
       "      <td>13.32</td>\n",
       "      <td>13.32</td>\n",
       "    </tr>\n",
       "    <tr>\n",
       "      <th>1</th>\n",
       "      <td>12.87</td>\n",
       "      <td>12.92</td>\n",
       "      <td>12.96</td>\n",
       "      <td>13.42</td>\n",
       "      <td>13.32</td>\n",
       "      <td>13.32</td>\n",
       "      <td>13.27</td>\n",
       "    </tr>\n",
       "    <tr>\n",
       "      <th>2</th>\n",
       "      <td>12.92</td>\n",
       "      <td>12.96</td>\n",
       "      <td>13.42</td>\n",
       "      <td>13.32</td>\n",
       "      <td>13.32</td>\n",
       "      <td>13.27</td>\n",
       "      <td>13.40</td>\n",
       "    </tr>\n",
       "    <tr>\n",
       "      <th>3</th>\n",
       "      <td>12.96</td>\n",
       "      <td>13.42</td>\n",
       "      <td>13.32</td>\n",
       "      <td>13.32</td>\n",
       "      <td>13.27</td>\n",
       "      <td>13.40</td>\n",
       "      <td>13.64</td>\n",
       "    </tr>\n",
       "    <tr>\n",
       "      <th>4</th>\n",
       "      <td>13.42</td>\n",
       "      <td>13.32</td>\n",
       "      <td>13.32</td>\n",
       "      <td>13.27</td>\n",
       "      <td>13.40</td>\n",
       "      <td>13.64</td>\n",
       "      <td>13.60</td>\n",
       "    </tr>\n",
       "    <tr>\n",
       "      <th>...</th>\n",
       "      <td>...</td>\n",
       "      <td>...</td>\n",
       "      <td>...</td>\n",
       "      <td>...</td>\n",
       "      <td>...</td>\n",
       "      <td>...</td>\n",
       "      <td>...</td>\n",
       "    </tr>\n",
       "    <tr>\n",
       "      <th>2005</th>\n",
       "      <td>162.05</td>\n",
       "      <td>161.80</td>\n",
       "      <td>160.08</td>\n",
       "      <td>160.31</td>\n",
       "      <td>160.33</td>\n",
       "      <td>159.26</td>\n",
       "      <td>158.63</td>\n",
       "    </tr>\n",
       "    <tr>\n",
       "      <th>2006</th>\n",
       "      <td>161.80</td>\n",
       "      <td>160.08</td>\n",
       "      <td>160.31</td>\n",
       "      <td>160.33</td>\n",
       "      <td>159.26</td>\n",
       "      <td>158.63</td>\n",
       "      <td>164.20</td>\n",
       "    </tr>\n",
       "    <tr>\n",
       "      <th>2007</th>\n",
       "      <td>160.08</td>\n",
       "      <td>160.31</td>\n",
       "      <td>160.33</td>\n",
       "      <td>159.26</td>\n",
       "      <td>158.63</td>\n",
       "      <td>164.20</td>\n",
       "      <td>166.10</td>\n",
       "    </tr>\n",
       "    <tr>\n",
       "      <th>2008</th>\n",
       "      <td>160.31</td>\n",
       "      <td>160.33</td>\n",
       "      <td>159.26</td>\n",
       "      <td>158.63</td>\n",
       "      <td>164.20</td>\n",
       "      <td>166.10</td>\n",
       "      <td>164.29</td>\n",
       "    </tr>\n",
       "    <tr>\n",
       "      <th>2009</th>\n",
       "      <td>160.33</td>\n",
       "      <td>159.26</td>\n",
       "      <td>158.63</td>\n",
       "      <td>164.20</td>\n",
       "      <td>166.10</td>\n",
       "      <td>164.29</td>\n",
       "      <td>162.85</td>\n",
       "    </tr>\n",
       "  </tbody>\n",
       "</table>\n",
       "<p>2010 rows × 7 columns</p>\n",
       "</div>"
      ],
      "text/plain": [
       "           0       1       2       3       4       0       1\n",
       "0      12.54   12.87   12.92   12.96   13.42   13.32   13.32\n",
       "1      12.87   12.92   12.96   13.42   13.32   13.32   13.27\n",
       "2      12.92   12.96   13.42   13.32   13.32   13.27   13.40\n",
       "3      12.96   13.42   13.32   13.32   13.27   13.40   13.64\n",
       "4      13.42   13.32   13.32   13.27   13.40   13.64   13.60\n",
       "...      ...     ...     ...     ...     ...     ...     ...\n",
       "2005  162.05  161.80  160.08  160.31  160.33  159.26  158.63\n",
       "2006  161.80  160.08  160.31  160.33  159.26  158.63  164.20\n",
       "2007  160.08  160.31  160.33  159.26  158.63  164.20  166.10\n",
       "2008  160.31  160.33  159.26  158.63  164.20  166.10  164.29\n",
       "2009  160.33  159.26  158.63  164.20  166.10  164.29  162.85\n",
       "\n",
       "[2010 rows x 7 columns]"
      ]
     },
     "execution_count": 36,
     "metadata": {},
     "output_type": "execute_result"
    }
   ],
   "source": [
    "# Make the 3-D shape to a data frame so we can see: \n",
    "X_train_see = pd.DataFrame(np.reshape(X_train, (X_train.shape[0],X_train.shape[1])))\n",
    "y_train_see = pd.DataFrame(y_train)\n",
    "pd.concat([X_train_see,y_train_see],axis=1)"
   ]
  },
  {
   "cell_type": "code",
   "execution_count": 37,
   "metadata": {},
   "outputs": [
    {
     "data": {
      "text/html": [
       "<div>\n",
       "<style scoped>\n",
       "    .dataframe tbody tr th:only-of-type {\n",
       "        vertical-align: middle;\n",
       "    }\n",
       "\n",
       "    .dataframe tbody tr th {\n",
       "        vertical-align: top;\n",
       "    }\n",
       "\n",
       "    .dataframe thead th {\n",
       "        text-align: right;\n",
       "    }\n",
       "</style>\n",
       "<table border=\"1\" class=\"dataframe\">\n",
       "  <thead>\n",
       "    <tr style=\"text-align: right;\">\n",
       "      <th></th>\n",
       "      <th>0</th>\n",
       "      <th>1</th>\n",
       "      <th>2</th>\n",
       "      <th>3</th>\n",
       "      <th>4</th>\n",
       "    </tr>\n",
       "  </thead>\n",
       "  <tbody>\n",
       "    <tr>\n",
       "      <th>0</th>\n",
       "      <td>158.63</td>\n",
       "      <td>164.20</td>\n",
       "      <td>166.10</td>\n",
       "      <td>164.29</td>\n",
       "      <td>162.85</td>\n",
       "    </tr>\n",
       "    <tr>\n",
       "      <th>1</th>\n",
       "      <td>164.20</td>\n",
       "      <td>166.10</td>\n",
       "      <td>164.29</td>\n",
       "      <td>162.85</td>\n",
       "      <td>159.33</td>\n",
       "    </tr>\n",
       "    <tr>\n",
       "      <th>2</th>\n",
       "      <td>166.10</td>\n",
       "      <td>164.29</td>\n",
       "      <td>162.85</td>\n",
       "      <td>159.33</td>\n",
       "      <td>160.93</td>\n",
       "    </tr>\n",
       "    <tr>\n",
       "      <th>3</th>\n",
       "      <td>164.29</td>\n",
       "      <td>162.85</td>\n",
       "      <td>159.33</td>\n",
       "      <td>160.93</td>\n",
       "      <td>156.92</td>\n",
       "    </tr>\n",
       "    <tr>\n",
       "      <th>4</th>\n",
       "      <td>162.85</td>\n",
       "      <td>159.33</td>\n",
       "      <td>160.93</td>\n",
       "      <td>156.92</td>\n",
       "      <td>158.11</td>\n",
       "    </tr>\n",
       "    <tr>\n",
       "      <th>...</th>\n",
       "      <td>...</td>\n",
       "      <td>...</td>\n",
       "      <td>...</td>\n",
       "      <td>...</td>\n",
       "      <td>...</td>\n",
       "    </tr>\n",
       "    <tr>\n",
       "      <th>396</th>\n",
       "      <td>121.14</td>\n",
       "      <td>114.81</td>\n",
       "      <td>120.97</td>\n",
       "      <td>122.28</td>\n",
       "      <td>134.95</td>\n",
       "    </tr>\n",
       "    <tr>\n",
       "      <th>397</th>\n",
       "      <td>114.81</td>\n",
       "      <td>120.97</td>\n",
       "      <td>122.28</td>\n",
       "      <td>134.95</td>\n",
       "      <td>135.39</td>\n",
       "    </tr>\n",
       "    <tr>\n",
       "      <th>398</th>\n",
       "      <td>120.97</td>\n",
       "      <td>122.28</td>\n",
       "      <td>134.95</td>\n",
       "      <td>135.39</td>\n",
       "      <td>134.16</td>\n",
       "    </tr>\n",
       "    <tr>\n",
       "      <th>399</th>\n",
       "      <td>122.28</td>\n",
       "      <td>134.95</td>\n",
       "      <td>135.39</td>\n",
       "      <td>134.16</td>\n",
       "      <td>139.52</td>\n",
       "    </tr>\n",
       "    <tr>\n",
       "      <th>400</th>\n",
       "      <td>134.95</td>\n",
       "      <td>135.39</td>\n",
       "      <td>134.16</td>\n",
       "      <td>139.52</td>\n",
       "      <td>142.57</td>\n",
       "    </tr>\n",
       "  </tbody>\n",
       "</table>\n",
       "<p>401 rows × 5 columns</p>\n",
       "</div>"
      ],
      "text/plain": [
       "          0       1       2       3       4\n",
       "0    158.63  164.20  166.10  164.29  162.85\n",
       "1    164.20  166.10  164.29  162.85  159.33\n",
       "2    166.10  164.29  162.85  159.33  160.93\n",
       "3    164.29  162.85  159.33  160.93  156.92\n",
       "4    162.85  159.33  160.93  156.92  158.11\n",
       "..      ...     ...     ...     ...     ...\n",
       "396  121.14  114.81  120.97  122.28  134.95\n",
       "397  114.81  120.97  122.28  134.95  135.39\n",
       "398  120.97  122.28  134.95  135.39  134.16\n",
       "399  122.28  134.95  135.39  134.16  139.52\n",
       "400  134.95  135.39  134.16  139.52  142.57\n",
       "\n",
       "[401 rows x 5 columns]"
      ]
     },
     "execution_count": 37,
     "metadata": {},
     "output_type": "execute_result"
    }
   ],
   "source": [
    "# Make the 3-D shape to a data frame so we can see: \n",
    "X_test_see = pd.DataFrame(np.reshape(X_test, (X_test.shape[0],X_test.shape[1])))\n",
    "pd.DataFrame(X_test_see)"
   ]
  },
  {
   "cell_type": "code",
   "execution_count": 38,
   "metadata": {},
   "outputs": [
    {
     "name": "stdout",
     "output_type": "stream",
     "text": [
      "There are 2010 samples in the training data\n",
      "There are 401 samples in the test data\n"
     ]
    }
   ],
   "source": [
    "print(\"There are \" + str(X_train.shape[0]) + \" samples in the training data\")\n",
    "print(\"There are \" + str(X_test.shape[0]) + \" samples in the test data\")"
   ]
  },
  {
   "cell_type": "code",
   "execution_count": 39,
   "metadata": {},
   "outputs": [
    {
     "data": {
      "text/plain": [
       "array([[50.074265, 48.661026],\n",
       "       [50.074272, 48.661026],\n",
       "       [50.074265, 48.661026],\n",
       "       [50.07427 , 48.661026],\n",
       "       [50.07427 , 48.661026],\n",
       "       [50.074265, 48.661026],\n",
       "       [50.074265, 48.661026],\n",
       "       [50.074265, 48.661026],\n",
       "       [50.074265, 48.661026]], dtype=float32)"
      ]
     },
     "execution_count": 39,
     "metadata": {},
     "output_type": "execute_result"
    }
   ],
   "source": [
    "def simple_rnn_model(X_train, y_train, X_test):\n",
    "    '''\n",
    "    create single layer rnn model trained on X_train and y_train\n",
    "    and make predictions on the X_test data\n",
    "    '''\n",
    "    # create a model\n",
    "    from keras.models import Sequential\n",
    "    from keras.layers import Dense, SimpleRNN\n",
    "    \n",
    "    my_rnn_model = Sequential()\n",
    "    my_rnn_model.add(SimpleRNN(32, return_sequences=True))\n",
    "    #my_rnn_model.add(SimpleRNN(32, return_sequences=True))\n",
    "    #my_rnn_model.add(SimpleRNN(32, return_sequences=True))\n",
    "    my_rnn_model.add(SimpleRNN(32))\n",
    "    my_rnn_model.add(Dense(2)) # The time step of the output\n",
    "\n",
    "    my_rnn_model.compile(optimizer='rmsprop', loss='mean_squared_error')\n",
    "\n",
    "    # fit the RNN model\n",
    "    my_rnn_model.fit(X_train, y_train, epochs=100, batch_size=150, verbose=0)\n",
    "\n",
    "    # Finalizing predictions\n",
    "    rnn_predictions = my_rnn_model.predict(X_test)\n",
    "\n",
    "    return my_rnn_model, rnn_predictions\n",
    "\n",
    "my_rnn_model, rnn_predictions = simple_rnn_model(X_train, y_train, X_test)\n",
    "rnn_predictions[1:10]"
   ]
  },
  {
   "cell_type": "code",
   "execution_count": 40,
   "metadata": {},
   "outputs": [
    {
     "data": {
      "text/plain": [
       "(2770.1252, <AxesSubplot:xlabel='Date'>)"
      ]
     },
     "execution_count": 40,
     "metadata": {},
     "output_type": "execute_result"
    },
    {
     "data": {
      "image/png": "[encoded data removed]",
      "text/plain": [
       "<Figure size 432x288 with 1 Axes>"
      ]
     },
     "metadata": {
      "needs_background": "light"
     },
     "output_type": "display_data"
    }
   ],
   "source": [
    "def actual_pred_plot(preds):\n",
    "    actual_pred = pd.DataFrame(columns = ['Adj. Close', 'prediction'])\n",
    "    actual_pred['Adj. Close'] = all_data.loc['2019':,'Adj Close'][0:len(preds)]\n",
    "    actual_pred['prediction'] = preds[:,0]\n",
    "\n",
    "    from keras.metrics import MeanSquaredError\n",
    "    m = MeanSquaredError()\n",
    "    m.update_state(np.array(actual_pred['Adj. Close']),np.array(actual_pred['prediction']))\n",
    "    \n",
    "    return (m.result().numpy(), actual_pred.plot() )\n",
    "    \n",
    "actual_pred_plot(rnn_predictions)  "
   ]
  },
  {
   "cell_type": "code",
   "execution_count": 41,
   "metadata": {},
   "outputs": [],
   "source": [
    "def ts_train_test_normalize(all_data,time_steps,for_periods):\n",
    "    '''\n",
    "    input: \n",
    "      data: dataframe with dates and price data\n",
    "    output:\n",
    "      X_train, y_train: data from 2013/1/1-2018/12/31\n",
    "      X_test:  data from 2019 -\n",
    "      sc:      insantiated MinMaxScaler object fit to the training data\n",
    "    '''\n",
    "    # create training and test set\n",
    "    ts_train = all_data[:'2020'].iloc[:,0:1].values\n",
    "    ts_test  = all_data['2021':].iloc[:,0:1].values\n",
    "    ts_train_len = len(ts_train)\n",
    "    ts_test_len = len(ts_test)\n",
    "\n",
    "    # scale the data\n",
    "    from sklearn.preprocessing import MinMaxScaler\n",
    "    sc = MinMaxScaler(feature_range=(0,1))\n",
    "    ts_train_scaled = sc.fit_transform(ts_train)\n",
    "\n",
    "    # create training data of s samples and t time steps\n",
    "    X_train = []\n",
    "    y_train = []\n",
    "    y_train_stacked = []\n",
    "    for i in range(time_steps,ts_train_len-1): \n",
    "        X_train.append(ts_train_scaled[i-time_steps:i,0])\n",
    "        y_train.append(ts_train_scaled[i:i+for_periods,0])\n",
    "    X_train, y_train = np.array(X_train), np.array(y_train)\n",
    "\n",
    "    # Reshaping X_train for efficient modelling\n",
    "    X_train = np.reshape(X_train, (X_train.shape[0],X_train.shape[1],1))\n",
    "\n",
    "    inputs = pd.concat((all_data[\"Adj Close\"][:'2020'], all_data[\"Adj Close\"]['2021':]),axis=0).values\n",
    "    inputs = inputs[len(inputs)-len(ts_test) - time_steps:]\n",
    "    inputs = inputs.reshape(-1,1)\n",
    "    inputs  = sc.transform(inputs)\n",
    "\n",
    "    # Preparing X_test\n",
    "    X_test = []\n",
    "    for i in range(time_steps,ts_test_len+time_steps-for_periods):\n",
    "        X_test.append(inputs[i-time_steps:i,0])\n",
    "        \n",
    "    X_test = np.array(X_test)\n",
    "    X_test = np.reshape(X_test, (X_test.shape[0],X_test.shape[1],1))\n",
    "\n",
    "    return X_train, y_train , X_test, sc\n",
    "\n"
   ]
  },
  {
   "cell_type": "code",
   "execution_count": 42,
   "metadata": {},
   "outputs": [],
   "source": [
    " # create training and test set\n",
    "ts_train = all_data[:'2020'].iloc[:,0:1].values\n",
    "ts_test  = all_data['2021':].iloc[:,0:1].values\n",
    "ts_train_len = len(ts_train)\n",
    "ts_test_len = len(ts_test)\n",
    "\n",
    "# scale the data\n",
    "from sklearn.preprocessing import MinMaxScaler\n",
    "sc = MinMaxScaler(feature_range=(0,1))\n",
    "ts_train_scaled = sc.fit_transform(ts_train)"
   ]
  },
  {
   "cell_type": "code",
   "execution_count": 43,
   "metadata": {},
   "outputs": [
    {
     "name": "stderr",
     "output_type": "stream",
     "text": [
      "C:\\Users\\HP\\AppData\\Roaming\\Python\\Python36\\site-packages\\keras\\optimizer_v2\\optimizer_v2.py:356: UserWarning: The `lr` argument is deprecated, use `learning_rate` instead.\n",
      "  \"The `lr` argument is deprecated, use `learning_rate` instead.\")\n"
     ]
    },
    {
     "data": {
      "text/plain": [
       "(64169576.0, <AxesSubplot:xlabel='Date'>)"
      ]
     },
     "execution_count": 43,
     "metadata": {},
     "output_type": "execute_result"
    },
    {
     "data": {
      "image/png": "[encoded data removed]",
      "text/plain": [
       "<Figure size 432x288 with 1 Axes>"
      ]
     },
     "metadata": {
      "needs_background": "light"
     },
     "output_type": "display_data"
    }
   ],
   "source": [
    "\n",
    "def LSTM_model(X_train, y_train, X_test, sc):\n",
    "    # create a model\n",
    "    from keras.models import Sequential\n",
    "    from keras.layers import Dense, SimpleRNN, GRU, LSTM\n",
    "    from tensorflow.keras.optimizers import SGD\n",
    "\n",
    "   \n",
    "    \n",
    "    # The LSTM architecture\n",
    "    my_LSTM_model = Sequential()\n",
    "    my_LSTM_model.add(LSTM(units=50, return_sequences=True, input_shape=(X_train.shape[1],1), activation='tanh'))\n",
    "    #my_LSTM_model.add(LSTM(units=50, return_sequences=True, input_shape=(X_train.shape[1],1), activation='tanh'))\n",
    "    #my_LSTM_model.add(LSTM(units=50, return_sequences=True, input_shape=(X_train.shape[1],1), activation='tanh'))\n",
    "    my_LSTM_model.add(LSTM(units=50, activation='tanh'))\n",
    "    my_LSTM_model.add(Dense(units=2))\n",
    "\n",
    "    # Compiling\n",
    "    my_LSTM_model.compile(optimizer=SGD(lr=0.01, decay=1e-7, momentum=0.9, nesterov=False),loss='mean_squared_error')\n",
    "    # Fitting to the training set\n",
    "    my_LSTM_model.fit(X_train,y_train,epochs=50,batch_size=150, verbose=0)\n",
    "\n",
    "    LSTM_prediction = my_LSTM_model.predict(X_test)\n",
    "    LSTM_prediction = sc.inverse_transform(LSTM_prediction)\n",
    "\n",
    "    return my_LSTM_model, LSTM_prediction\n",
    "\n",
    "my_LSTM_model, LSTM_prediction = LSTM_model(X_train, y_train, X_test, sc)\n",
    "LSTM_prediction[1:10]\n",
    "actual_pred_plot(LSTM_prediction)  "
   ]
  },
  {
   "cell_type": "code",
   "execution_count": 44,
   "metadata": {},
   "outputs": [
    {
     "name": "stderr",
     "output_type": "stream",
     "text": [
      "C:\\Users\\HP\\AppData\\Roaming\\Python\\Python36\\site-packages\\keras\\optimizer_v2\\optimizer_v2.py:356: UserWarning: The `lr` argument is deprecated, use `learning_rate` instead.\n",
      "  \"The `lr` argument is deprecated, use `learning_rate` instead.\")\n"
     ]
    },
    {
     "data": {
      "text/plain": [
       "(95986820.0, <AxesSubplot:xlabel='Date'>)"
      ]
     },
     "execution_count": 44,
     "metadata": {},
     "output_type": "execute_result"
    },
    {
     "data": {
      "image/png": "[encoded data removed]",
      "text/plain": [
       "<Figure size 432x288 with 1 Axes>"
      ]
     },
     "metadata": {
      "needs_background": "light"
     },
     "output_type": "display_data"
    }
   ],
   "source": [
    "def GRU_model(X_train, y_train, X_test, sc):\n",
    "    # create a model\n",
    "    from keras.models import Sequential\n",
    "    from keras.layers import Dense, SimpleRNN, GRU\n",
    "    from tensorflow.keras.optimizers import SGD    \n",
    "    # The GRU architecture\n",
    "    my_GRU_model = Sequential()\n",
    "    # First GRU layer with Dropout regularisation\n",
    "    my_GRU_model.add(GRU(units=50, return_sequences=True, input_shape=(X_train.shape[1],1), activation='tanh'))\n",
    "    #my_GRU_model.add(GRU(units=50, return_sequences=True, input_shape=(X_train.shape[1],1), activation='tanh'))\n",
    "    #my_GRU_model.add(GRU(units=50, return_sequences=True, input_shape=(X_train.shape[1],1), activation='tanh'))\n",
    "    my_GRU_model.add(GRU(units=50, activation='tanh'))\n",
    "    my_GRU_model.add(Dense(units=2))\n",
    "\n",
    "    # Compiling the RNN\n",
    "    my_GRU_model.compile(optimizer=SGD(lr=0.01, decay=1e-7, momentum=0.9, nesterov=False),loss='mean_squared_error')\n",
    "    # Fitting to the training set\n",
    "    my_GRU_model.fit(X_train,y_train,epochs=50,batch_size=150, verbose=0)\n",
    "\n",
    "    GRU_prediction = my_GRU_model.predict(X_test)\n",
    "    GRU_prediction = sc.inverse_transform(GRU_prediction)\n",
    "\n",
    "    return my_GRU_model, GRU_prediction\n",
    "\n",
    "my_GRU_model, GRU_prediction = GRU_model(X_train, y_train, X_test, sc)\n",
    "GRU_prediction[1:10]\n",
    "actual_pred_plot(GRU_prediction)  "
   ]
  },
  {
   "cell_type": "code",
   "execution_count": 45,
   "metadata": {},
   "outputs": [
    {
     "data": {
      "text/plain": [
       "array([[9896.585, 9915.92 ],\n",
       "       [9896.585, 9915.92 ],\n",
       "       [9896.585, 9915.92 ],\n",
       "       [9896.585, 9915.92 ],\n",
       "       [9896.585, 9915.92 ],\n",
       "       [9896.585, 9915.92 ],\n",
       "       [9896.585, 9915.92 ],\n",
       "       [9896.585, 9915.92 ],\n",
       "       [9896.585, 9915.92 ]], dtype=float32)"
      ]
     },
     "execution_count": 45,
     "metadata": {},
     "output_type": "execute_result"
    }
   ],
   "source": [
    "GRU_prediction[1:10]"
   ]
  },
  {
   "cell_type": "code",
   "execution_count": null,
   "metadata": {},
   "outputs": [],
   "source": []
  }
 ],
 "metadata": {
  "kernelspec": {
   "display_name": "Python 3.6.8 64-bit",
   "language": "python",
   "name": "python3"
  },
  "language_info": {
   "codemirror_mode": {
    "name": "ipython",
    "version": 3
   },
   "file_extension": ".py",
   "mimetype": "text/x-python",
   "name": "python",
   "nbconvert_exporter": "python",
   "pygments_lexer": "ipython3",
   "version": "3.6.8"
  },
  "orig_nbformat": 4,
  "vscode": {
   "interpreter": {
    "hash": "f4e9cda46bb2d9d7fe6ecdff0f8336a934348bf06cb492f2f42f60739b3403b4"
   }
  }
 },
 "nbformat": 4,
 "nbformat_minor": 2
}
